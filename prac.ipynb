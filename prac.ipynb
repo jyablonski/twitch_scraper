{
 "cells": [
  {
   "cell_type": "code",
   "execution_count": 25,
   "metadata": {},
   "outputs": [],
   "source": [
    "#!/usr/bin/env python\n",
    "from datetime import datetime, date, timedelta\n",
    "import sys\n",
    "import os\n",
    "import twitch\n",
    "from itertools import islice\n",
    "import json\n",
    "from confluent_kafka import Producer\n",
    "import pandas as pd\n",
    "import json\n",
    "import re\n",
    "from itertools import islice\n",
    "\n",
    "client = twitch.TwitchHelix(client_id=os.environ.get(\"client_id\"),\n",
    "                            client_secret=os.environ.get(\"client_secret\"),\n",
    "                            scopes=[twitch.constants.OAUTH_SCOPE_ANALYTICS_READ_EXTENSIONS])\n",
    "client.get_oauth()\n",
    "\n",
    "def json_serializer(obj):\n",
    "    if isinstance(obj, (datetime.datetime, datetime.date)):\n",
    "        return obj.isoformat()\n",
    "    raise \"Type %s not serializable\" % type(obj)"
   ]
  },
  {
   "cell_type": "code",
   "execution_count": 8,
   "metadata": {},
   "outputs": [],
   "source": [
    "streams = client.get_streams(page_size=100) # get max amount of data at 1 time\n",
    "my_dict = {}"
   ]
  },
  {
   "cell_type": "code",
   "execution_count": 22,
   "metadata": {},
   "outputs": [],
   "source": [
    "streams = client.get_streams(page_size=100) # get max amount of data at 1 time\n",
    "my_list = []\n",
    "for stream in islice(streams, 0, 1000):\n",
    "    my_list.append(stream)\n",
    "df = pd.DataFrame.from_records(my_list)\n",
    "df['scrape_ts'] = datetime.now()"
   ]
  },
  {
   "cell_type": "code",
   "execution_count": 95,
   "metadata": {},
   "outputs": [],
   "source": [
    "streams = client.get_streams(page_size=100)"
   ]
  }
 ],
 "metadata": {
  "interpreter": {
   "hash": "8577a7a1cb1331a985d1e129f91f868ecd07e7a07ebe736dc4ab9aa80c64a590"
  },
  "kernelspec": {
   "display_name": "Python 3.8.10 ('mz-twitch-analytics-UOqMzHGY')",
   "language": "python",
   "name": "python3"
  },
  "language_info": {
   "codemirror_mode": {
    "name": "ipython",
    "version": 3
   },
   "file_extension": ".py",
   "mimetype": "text/x-python",
   "name": "python",
   "nbconvert_exporter": "python",
   "pygments_lexer": "ipython3",
   "version": "3.8.10"
  },
  "orig_nbformat": 4
 },
 "nbformat": 4,
 "nbformat_minor": 2
}
